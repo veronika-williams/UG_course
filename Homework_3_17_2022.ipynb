{
  "nbformat": 4,
  "nbformat_minor": 0,
  "metadata": {
    "colab": {
      "name": "Homework 3.17.2022.ipynb",
      "provenance": [],
      "collapsed_sections": [],
      "toc_visible": true,
      "mount_file_id": "16QVO44y5eeQHJqj6TJbo5godvdOCf78O",
      "authorship_tag": "ABX9TyOATh6iV42SqaB8rac9zIeJ",
      "include_colab_link": true
    },
    "kernelspec": {
      "name": "python3",
      "display_name": "Python 3"
    },
    "language_info": {
      "name": "python"
    }
  },
  "cells": [
    {
      "cell_type": "markdown",
      "metadata": {
        "id": "view-in-github",
        "colab_type": "text"
      },
      "source": [
        "<a href=\"https://colab.research.google.com/github/veronikawilliams1/UG_course/blob/master/Homework_3_17_2022.ipynb\" target=\"_parent\"><img src=\"https://colab.research.google.com/assets/colab-badge.svg\" alt=\"Open In Colab\"/></a>"
      ]
    },
    {
      "cell_type": "markdown",
      "source": [
        "# **Оценка стоимости медобслуживания**"
      ],
      "metadata": {
        "id": "uUdUbhRJvuzd"
      }
    },
    {
      "cell_type": "markdown",
      "source": [
        "1. Скачать датасет https://www.kaggle.com/mirichoi0218/insurance и сохранить его в датафрейм"
      ],
      "metadata": {
        "id": "zGuC48U7tsK1"
      }
    },
    {
      "cell_type": "code",
      "source": [
        "import pandas as pd\n",
        "data_set = pd.read_csv(\"/content/drive/MyDrive/Colab Notebooks/insurance.csv\");"
      ],
      "metadata": {
        "id": "wfNMbE22smHO"
      },
      "execution_count": null,
      "outputs": []
    },
    {
      "cell_type": "markdown",
      "source": [
        "2. Убрать из датафрейма столбцы «пол» и «регион», а столбец «курение» бинаризировать. Не курит = 0, курит = 1.\n",
        "\n"
      ],
      "metadata": {
        "id": "XNgfTSz-tz_g"
      }
    },
    {
      "cell_type": "code",
      "source": [
        "data_set.drop(\"sex\", inplace=True, axis=1)\n",
        "data_set.drop(\"region\", inplace=True, axis=1)\n",
        "data_set[\"smoker\"] = data_set['smoker'].replace(\"yes\", 1)\n",
        "data_set[\"smoker\"] = data_set['smoker'].replace(\"no\", 0)"
      ],
      "metadata": {
        "id": "kfnnq5jysvBM"
      },
      "execution_count": null,
      "outputs": []
    },
    {
      "cell_type": "markdown",
      "source": [
        "3.\tПревратить фрейм в списки features (аргументы) и target (стоимость мед обслуживания). Далее разбить полученные списки на тренировочные и тестовые"
      ],
      "metadata": {
        "id": "ktSoDsUUuGVW"
      }
    },
    {
      "cell_type": "code",
      "source": [
        "train_X = data_set[[\"age\", \"bmi\", \"children\", \"smoker\"]]\n",
        "train_Y = data_set[\"charges\"]"
      ],
      "metadata": {
        "id": "iYjTB3RruHno"
      },
      "execution_count": null,
      "outputs": []
    },
    {
      "cell_type": "markdown",
      "source": [
        "4.\tРассматривая данный датафрейм как зависимость стоимости оплаты медицинских услуг от параметров человека обучить на тренировочной выборке\n"
      ],
      "metadata": {
        "id": "4G6PKJwQuMZV"
      }
    },
    {
      "cell_type": "code",
      "source": [
        "from sklearn.model_selection import train_test_split\n",
        "train, test = train_test_split(train_X, test_size=0.2)\n",
        "train_ans, test_ans = train_test_split(train_Y, test_size=0.2)"
      ],
      "metadata": {
        "id": "AI_38pCiuOXR"
      },
      "execution_count": null,
      "outputs": []
    },
    {
      "cell_type": "markdown",
      "source": [
        "a. Линейный регрессор "
      ],
      "metadata": {
        "id": "6p_akg6rua1I"
      }
    },
    {
      "cell_type": "code",
      "source": [
        "import numpy as np\n",
        "from sklearn.linear_model import LinearRegression\n",
        "linreg = LinearRegression().fit(train, train_ans)"
      ],
      "metadata": {
        "id": "Pdf1KE1tucWT"
      },
      "execution_count": null,
      "outputs": []
    },
    {
      "cell_type": "markdown",
      "source": [
        "b.\tНейронную сеть "
      ],
      "metadata": {
        "id": "6DFBKiZVugJt"
      }
    },
    {
      "cell_type": "code",
      "source": [
        "from sklearn.neural_network import MLPRegressor\n",
        "from sklearn.model_selection import train_test_split\n",
        "X_train, X_test, y_train, y_test = train_test_split(train_X, train_Y,\n",
        "                                                    random_state=1)\n",
        "regr = MLPRegressor(random_state=1, max_iter=50000).fit(X_train, y_train)\n",
        "regr.predict(X_test[:2])"
      ],
      "metadata": {
        "colab": {
          "base_uri": "https://localhost:8080/"
        },
        "id": "tC6bx52uujF5",
        "outputId": "97a9cd96-b73a-430e-f163-83e6036681d4"
      },
      "execution_count": null,
      "outputs": [
        {
          "output_type": "execute_result",
          "data": {
            "text/plain": [
              "0.1702232934903195"
            ]
          },
          "metadata": {},
          "execution_count": 16
        }
      ]
    },
    {
      "cell_type": "markdown",
      "source": [
        "5.\tНа тестовой выборке проверить score полученных регрессоров"
      ],
      "metadata": {
        "id": "WJHRguzmvGsZ"
      }
    },
    {
      "cell_type": "code",
      "source": [
        "print(\"Score линейного регрессора:\", linreg.score(train, train_ans))\n",
        "print(\"Score нейронной сети:\", regr.score(X_test, y_test))"
      ],
      "metadata": {
        "colab": {
          "base_uri": "https://localhost:8080/"
        },
        "id": "Oawpo32qvHoT",
        "outputId": "4a83311c-010a-4a99-fe32-2710c1a00ef3"
      },
      "execution_count": null,
      "outputs": [
        {
          "output_type": "stream",
          "name": "stdout",
          "text": [
            "Score линейного регрессора: 0.00578142153574146\n",
            "Score нейронной сети: 0.1702232934903195\n"
          ]
        }
      ]
    },
    {
      "cell_type": "markdown",
      "source": [
        "6.\tПроверить на сколько они превосходят «дурные» регрессоры усреднения"
      ],
      "metadata": {
        "id": "5_VQLF58vNJw"
      }
    },
    {
      "cell_type": "code",
      "source": [
        "from sklearn.dummy import DummyRegressor\n",
        "f_train, f_test, t_train, t_test = train_test_split(train_X, train_Y, random_state=0 )\n",
        "dummy = DummyRegressor( strategy  = \"mean\")\n",
        "dummy.fit(f_train, t_train)\n",
        "print(\"Score Dummy Regressor'a:\", dummy.score(f_test, t_test))"
      ],
      "metadata": {
        "colab": {
          "base_uri": "https://localhost:8080/"
        },
        "id": "HU5RikMcvNym",
        "outputId": "7bea89e9-579d-4277-c57a-88c665755f9a"
      },
      "execution_count": null,
      "outputs": [
        {
          "output_type": "stream",
          "name": "stdout",
          "text": [
            "Score Dummy Regressor'a: -0.00030161721339894143\n"
          ]
        }
      ]
    },
    {
      "cell_type": "markdown",
      "source": [
        "7.\tОценить свою стоимость мед обслуживания с помощью predict"
      ],
      "metadata": {
        "id": "kFCx0_DxvbAy"
      }
    },
    {
      "cell_type": "code",
      "source": [
        "d = {'age': [17], 'bmi': [22.0], 'children': [0], 'smoker': [0]}\n",
        "print(\"Стоимость моей страховки в США:\", regr.predict(pd.DataFrame(data=d)))"
      ],
      "metadata": {
        "colab": {
          "base_uri": "https://localhost:8080/"
        },
        "id": "jPVcAiXCvbvk",
        "outputId": "43d218ae-3e1b-465c-e7b4-0af5f2e67333"
      },
      "execution_count": null,
      "outputs": [
        {
          "output_type": "stream",
          "name": "stdout",
          "text": [
            "Стоимость моей страховки в США: [7106.18918521]\n"
          ]
        }
      ]
    }
  ]
}